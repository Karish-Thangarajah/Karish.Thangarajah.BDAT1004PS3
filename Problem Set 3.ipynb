{
 "cells": [
  {
   "cell_type": "markdown",
   "metadata": {},
   "source": [
    "### Question 3\n",
    "\n",
    "\n",
    "Housing\n",
    "\n",
    "Step 1. Import the necessary libraries\n"
   ]
  },
  {
   "cell_type": "code",
   "execution_count": 1,
   "metadata": {},
   "outputs": [],
   "source": [
    "import pandas as pd\n",
    "import random"
   ]
  },
  {
   "cell_type": "markdown",
   "metadata": {},
   "source": [
    "Step 2. Create 3 differents Series, each of length 100, as follows:\n",
    "\n",
    "    The first a random number from 1 to 4\n",
    "    The second a random number from 1 to 3\n",
    "    The third a random number from 10,000 to 30,000\n",
    "\n",
    "\n"
   ]
  },
  {
   "cell_type": "code",
   "execution_count": 2,
   "metadata": {},
   "outputs": [],
   "source": [
    "list1 = []\n",
    "for i in range(100):\n",
    "    list1.append(random.randint(1,4) + random.random())\n",
    "    \n",
    "series1 = pd.Series(list1)\n",
    "\n",
    "list2 = []\n",
    "for i in range(100):\n",
    "    list2.append(random.randint(1,3) + random.random())\n",
    "    \n",
    "series2 = pd.Series(list2)\n",
    "\n",
    "list3 = []\n",
    "for i in range(100):\n",
    "    list3.append(random.randint(10000,30000) + random.random())\n",
    "    \n",
    "series3 = pd.Series(list3)"
   ]
  },
  {
   "cell_type": "markdown",
   "metadata": {},
   "source": [
    "Step 3. Create a DataFrame by joinning the Series by column\n",
    "\n"
   ]
  },
  {
   "cell_type": "code",
   "execution_count": 3,
   "metadata": {},
   "outputs": [
    {
     "name": "stdout",
     "output_type": "stream",
     "text": [
      "       first    second         third\n",
      "0   3.796033  1.870825  18199.668005\n",
      "1   1.053296  1.608981  20086.668003\n",
      "2   4.287251  2.494138  12847.395219\n",
      "3   3.058505  1.435194  29154.630015\n",
      "4   2.807268  2.765933  25214.695664\n",
      "..       ...       ...           ...\n",
      "95  2.379536  3.949545  19257.716461\n",
      "96  1.979449  1.410774  15046.109960\n",
      "97  4.543153  2.118494  19668.625576\n",
      "98  4.722895  1.342169  19264.679671\n",
      "99  2.220385  3.731415  27046.983180\n",
      "\n",
      "[100 rows x 3 columns]\n"
     ]
    }
   ],
   "source": [
    "dFrame1 = pd.DataFrame({'first':series1, 'second':series2, 'third':series3})\n",
    "print(dFrame1)"
   ]
  },
  {
   "cell_type": "markdown",
   "metadata": {},
   "source": [
    "Step 4. Change the name of the columns to bedrs, bathrs, price_sqr_meter\n",
    "\n"
   ]
  },
  {
   "cell_type": "code",
   "execution_count": 4,
   "metadata": {},
   "outputs": [
    {
     "name": "stdout",
     "output_type": "stream",
     "text": [
      "       bedrs    bathrs  price_sqr_meter\n",
      "0   3.796033  1.870825     18199.668005\n",
      "1   1.053296  1.608981     20086.668003\n",
      "2   4.287251  2.494138     12847.395219\n",
      "3   3.058505  1.435194     29154.630015\n",
      "4   2.807268  2.765933     25214.695664\n",
      "..       ...       ...              ...\n",
      "95  2.379536  3.949545     19257.716461\n",
      "96  1.979449  1.410774     15046.109960\n",
      "97  4.543153  2.118494     19668.625576\n",
      "98  4.722895  1.342169     19264.679671\n",
      "99  2.220385  3.731415     27046.983180\n",
      "\n",
      "[100 rows x 3 columns]\n"
     ]
    }
   ],
   "source": [
    "dFrame2 = pd.DataFrame({'bedrs':series1, 'bathrs':series2, 'price_sqr_meter':series3})\n",
    "print(dFrame2)"
   ]
  },
  {
   "cell_type": "markdown",
   "metadata": {},
   "source": [
    "Step 5. Create a one column DataFrame with the values of the 3 Series and assign it\n",
    "to 'bigcolumn'\n",
    "\n"
   ]
  },
  {
   "cell_type": "code",
   "execution_count": 7,
   "metadata": {},
   "outputs": [
    {
     "name": "stdout",
     "output_type": "stream",
     "text": [
      "       bigcolumn\n",
      "0       3.796033\n",
      "1       1.053296\n",
      "2       4.287251\n",
      "3       3.058505\n",
      "4       2.807268\n",
      "..           ...\n",
      "95  19257.716461\n",
      "96  15046.109960\n",
      "97  19668.625576\n",
      "98  19264.679671\n",
      "99  27046.983180\n",
      "\n",
      "[300 rows x 1 columns]\n"
     ]
    }
   ],
   "source": [
    "dFrame3 = pd.DataFrame({'bigcolumn': pd.concat([series1, series2, series3])})\n",
    "print(dFrame3)"
   ]
  },
  {
   "cell_type": "markdown",
   "metadata": {},
   "source": [
    "Step 6. Ops it seems it is going only until index 99. Is it true?\n"
   ]
  },
  {
   "cell_type": "code",
   "execution_count": 10,
   "metadata": {},
   "outputs": [
    {
     "name": "stdout",
     "output_type": "stream",
     "text": [
      "300\n"
     ]
    }
   ],
   "source": [
    "print(len(dFrame3))"
   ]
  },
  {
   "cell_type": "markdown",
   "metadata": {},
   "source": [
    "Clearly as seen above that is not true. the individual data Series remember their indices from before the concatenation."
   ]
  },
  {
   "cell_type": "markdown",
   "metadata": {},
   "source": [
    "\n",
    "Step 7. Reindex the DataFrame so it goes from 0 to 299"
   ]
  },
  {
   "cell_type": "code",
   "execution_count": 13,
   "metadata": {},
   "outputs": [
    {
     "name": "stdout",
     "output_type": "stream",
     "text": [
      "        bigcolumn\n",
      "0        3.796033\n",
      "1        1.053296\n",
      "2        4.287251\n",
      "3        3.058505\n",
      "4        2.807268\n",
      "..            ...\n",
      "295  19257.716461\n",
      "296  15046.109960\n",
      "297  19668.625576\n",
      "298  19264.679671\n",
      "299  27046.983180\n",
      "\n",
      "[300 rows x 1 columns]\n"
     ]
    }
   ],
   "source": [
    "dFrame3_true =  pd.DataFrame({'bigcolumn': pd.concat([series1, series2, series3], ignore_index = True)})\n",
    "print(dFrame3_true)"
   ]
  },
  {
   "cell_type": "markdown",
   "metadata": {},
   "source": [
    "### Question 4\n",
    "\n",
    "\n",
    "Wind Statistics\n",
    "\n",
    "The data have been modified to contain some missing values, identified by NaN. Using pandas should make this exercise easier, in particular for the bonus question. You should be able to perform all of these operations without using a for loop or other looping construct.\n",
    "\n",
    "The data in 'wind.data' has the following format:\n",
    "\n",
    "Yr Mo Dy RPT VAL ROS KIL SHA BIR DUB CLA MUL CLO BEL MAL\n",
    "\n",
    "61 1 1 15.04 14.96 13.17 9.29 NaN 9.87 13.67 10.25 10.83 12.58 18.50 15.04\n",
    "\n",
    "61 1 2 14.71 NaN 10.83 6.50 12.62 7.67 11.50 10.04 9.79 9.67 17.54 13.83\n",
    "\n",
    "61 1 3 18.50 16.88 12.33 10.13 11.17 6.17 11.25 NaN 8.50 7.67 12.75 12.71\n",
    "\n",
    "The first three columns are year, month, and day. The remaining 12 columns are average windspeeds in knots at 12 locations in Ireland on that day.\n",
    "\n",
    "Step 1. Import the necessary libraries\n",
    "\n",
    "Step 2. Import the dataset from this address https://raw.githubusercontent.com/guipsamora/pandas_exercises/master/06_Stats/Wind_Stats/wind.data\n",
    "\n",
    "Step 3. Assign it to a variable called data and replace the first 3 columns by a proper datetime index.\n",
    "\n",
    "Step 4. Year 2061? Do we really have data from this year? Create a function to fix it and apply it.\n",
    "\n",
    "Step 5. Set the right dates as the index. Pay attention at the data type, it should be datetime64[ns].\n",
    "\n",
    "Step 6. Compute how many values are missing for each location over the entire record.They should be ignored in all calculations below.\n",
    "\n",
    "Step 7. Compute how many non-missing values there are in total.\n",
    "\n",
    "Step 8. Calculate the mean windspeeds of the windspeeds over all the locations and all the times. A single number for the entire dataset.\n",
    "\n",
    "Step 9. Create a DataFrame called loc_stats and calculate the min, max and mean windspeeds and standard deviations of the windspeeds at each location over all the days A different set of numbers for each location. \n",
    "\n",
    "Step 10. Create a DataFrame called day_stats and calculate the min, max and mean windspeed and standard deviations of the windspeeds across all the locations at each day. A different set of numbers for each day.\n",
    "\n",
    "Step 11. Find the average windspeed in January for each location. Treat January 1961 and January 1962 both as January.\n",
    "\n",
    "Step 12. Downsample the record to a yearly frequency for each location.\n",
    "\n",
    "Step 13. Downsample the record to a monthly frequency for each location.\n",
    "\n",
    "Step 14. Downsample the record to a weekly frequency for each location.\n",
    "\n",
    "Step 15. Calculate the min, max and mean windspeeds and standard deviations of the windspeeds across all locations for each week (assume that the first week starts on January 2 1961) for the first 52 weeks.\n"
   ]
  },
  {
   "cell_type": "code",
   "execution_count": null,
   "metadata": {},
   "outputs": [],
   "source": []
  },
  {
   "cell_type": "markdown",
   "metadata": {},
   "source": [
    "### Question 5\n",
    "\n",
    "Step 1. Import the necessary libraries\n",
    "\n",
    "Step 2. Import the dataset from this address.\n",
    "\n",
    "Step 3. Assign it to a variable called chipo.\n",
    "\n",
    "Step 4. See the first 10 entries\n",
    "\n",
    "Step 5. What is the number of observations in the dataset?\n",
    "\n",
    "Step 6. What is the number of columns in the dataset?\n",
    "\n",
    "Step 7. Print the name of all the columns.\n",
    "\n",
    "Step 8. How is the dataset indexed?\n",
    "\n",
    "Step 9. Which was the most-ordered item?\n",
    "\n",
    "Step 10. For the most-ordered item, how many items were ordered?\n",
    "\n",
    "Step 11. What was the most ordered item in the choice_description column?\n",
    "\n",
    "Step 12. How many items were orderd in total?\n",
    "Step 13.\n",
    "\n",
    "    Turn the item price into a float\n",
    "    Check the item price type\n",
    "    Create a lambda function and change the type of item price\n",
    "    Check the item price type\n",
    "\n",
    "Step 14. How much was the revenue for the period in the dataset?\n",
    "\n",
    "Step 15. How many orders were made in the period?\n",
    "\n",
    "Step 16. What is the average revenue amount per order?\n",
    "\n",
    "Step 17. How many different items are sold?"
   ]
  },
  {
   "cell_type": "code",
   "execution_count": null,
   "metadata": {},
   "outputs": [],
   "source": []
  },
  {
   "cell_type": "markdown",
   "metadata": {},
   "source": [
    "### Question 6\n",
    "\n",
    "Create a line plot showing the number of marriages and divorces per capita in the U.S. between 1867 and 2014. Label both lines and show the legend.\n",
    "\n",
    "Don't forget to label your axes!\n"
   ]
  },
  {
   "cell_type": "code",
   "execution_count": null,
   "metadata": {},
   "outputs": [],
   "source": []
  },
  {
   "cell_type": "markdown",
   "metadata": {},
   "source": [
    "### Question 7\n",
    "\n",
    "Create a vertical bar chart comparing the number of marriages and divorces per capita in the U.S. between 1900, 1950, and 2000. \n",
    "\n",
    "Don't forget to label your axes!\n"
   ]
  },
  {
   "cell_type": "code",
   "execution_count": null,
   "metadata": {},
   "outputs": [],
   "source": []
  },
  {
   "cell_type": "markdown",
   "metadata": {},
   "source": [
    "### Question 8\n",
    "\n",
    "Create a horizontal bar chart that compares the deadliest actors in Hollywood. Sort the actors by their kill count and label each bar with the corresponding actor's name.\n",
    "\n",
    "Don't forget to label your axes!\n"
   ]
  },
  {
   "cell_type": "code",
   "execution_count": null,
   "metadata": {},
   "outputs": [],
   "source": []
  },
  {
   "cell_type": "markdown",
   "metadata": {},
   "source": [
    "### Question 9\n",
    "\n",
    "Create a pie chart showing the fraction of all Roman Emperors that were assassinated.\n",
    "\n",
    "Make sure that the pie chart is an even circle, labels the categories, and shows the percentage breakdown of the categories."
   ]
  },
  {
   "cell_type": "code",
   "execution_count": null,
   "metadata": {},
   "outputs": [],
   "source": []
  },
  {
   "cell_type": "markdown",
   "metadata": {},
   "source": [
    "### Question 10\n",
    "\n",
    "Create a scatter plot showing the relationship between the total revenue earned by arcades and the number of Computer Science PhDs awarded in the U.S. between 2000 and 2009.\n",
    "\n",
    "Don't forget to label your axes!\n",
    "\n",
    "Color each dot according to its year"
   ]
  },
  {
   "cell_type": "code",
   "execution_count": null,
   "metadata": {},
   "outputs": [],
   "source": []
  }
 ],
 "metadata": {
  "kernelspec": {
   "display_name": "Python 3",
   "language": "python",
   "name": "python3"
  },
  "language_info": {
   "codemirror_mode": {
    "name": "ipython",
    "version": 3
   },
   "file_extension": ".py",
   "mimetype": "text/x-python",
   "name": "python",
   "nbconvert_exporter": "python",
   "pygments_lexer": "ipython3",
   "version": "3.8.3"
  }
 },
 "nbformat": 4,
 "nbformat_minor": 4
}
